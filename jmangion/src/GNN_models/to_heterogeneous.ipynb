{
  "nbformat": 4,
  "nbformat_minor": 0,
  "metadata": {
    "colab": {
      "provenance": []
    },
    "kernelspec": {
      "name": "python3",
      "display_name": "Python 3"
    },
    "language_info": {
      "name": "python"
    }
  },
  "cells": [
    {
      "cell_type": "code",
      "execution_count": 2,
      "metadata": {
        "id": "zNycVrw95vU9"
      },
      "outputs": [],
      "source": [
        "!pip install torch_geometric > /dev/null"
      ]
    },
    {
      "cell_type": "code",
      "source": [
        "import torch\n",
        "import torch.nn as nn\n",
        "import torch.nn.functional as F\n",
        "import torch_geometric\n",
        "from torch_geometric.nn import GCNConv, HeteroConv"
      ],
      "metadata": {
        "id": "zq5tLgUA58t3"
      },
      "execution_count": 3,
      "outputs": []
    },
    {
      "cell_type": "code",
      "source": [
        "from torch_geometric.data import HeteroData"
      ],
      "metadata": {
        "id": "TG0CVR9w6EuB"
      },
      "execution_count": 4,
      "outputs": []
    },
    {
      "cell_type": "code",
      "source": [
        "from torch_geometric.datasets import AMiner\n",
        "dataset = AMiner(root=\"/content/\")\n"
      ],
      "metadata": {
        "colab": {
          "base_uri": "https://localhost:8080/"
        },
        "id": "SRiSlPgx6Ko8",
        "outputId": "2fd38863-be34-4ac1-8378-fb212cba778d"
      },
      "execution_count": 6,
      "outputs": [
        {
          "output_type": "stream",
          "name": "stderr",
          "text": [
            "Downloading https://www.dropbox.com/s/1bnz8r7mofx0osf/net_aminer.zip?dl=1\n",
            "Extracting /content/net_aminer.zip\n",
            "Downloading https://www.dropbox.com/s/nkocx16rpl4ydde/label.zip?dl=1\n",
            "Extracting /content/raw/label.zip\n",
            "Processing...\n",
            "Done!\n"
          ]
        }
      ]
    },
    {
      "cell_type": "code",
      "source": [
        "data = dataset[0]\n",
        "print(data)\n",
        "print(\"-----\")\n",
        "homogeneous_data = data.to_homogeneous()\n",
        "hd = homogeneous_data # for short\n",
        "print(homogeneous_data)\n",
        "# this issue with the data rn is that there are 3441217 nodes in total, and y vector is storing a value for each of those, even though only 246812 of them have labels.\n",
        "# this means that only 246812/3441217 (7%) of the entries in the y vector are real labels\n",
        "# we need to filter out the unlabeled author nodes, the unlabeled venue nodes, and all of the paper nodes (since no paper nodes have labels) in order to form a suitable y vector\n",
        "# for the loss comparison"
      ],
      "metadata": {
        "colab": {
          "base_uri": "https://localhost:8080/"
        },
        "id": "hnqsGXwi6kjC",
        "outputId": "476442b1-e89a-47b4-e5b7-3333f5773585"
      },
      "execution_count": 22,
      "outputs": [
        {
          "output_type": "stream",
          "name": "stdout",
          "text": [
            "HeteroData(\n",
            "  author={\n",
            "    y=[246678],\n",
            "    y_index=[246678],\n",
            "    num_nodes=1693531,\n",
            "  },\n",
            "  venue={\n",
            "    y=[134],\n",
            "    y_index=[134],\n",
            "    num_nodes=3883,\n",
            "  },\n",
            "  paper={ num_nodes=3194405 },\n",
            "  (paper, written_by, author)={ edge_index=[2, 9323605] },\n",
            "  (author, writes, paper)={ edge_index=[2, 9323605] },\n",
            "  (paper, published_in, venue)={ edge_index=[2, 3194405] },\n",
            "  (venue, publishes, paper)={ edge_index=[2, 3194405] }\n",
            ")\n",
            "-----\n",
            "Data(edge_index=[2, 25036020], y=[3441217], y_index=[3441217], node_type=[4891819], edge_type=[25036020])\n"
          ]
        }
      ]
    },
    {
      "cell_type": "code",
      "source": [
        "# Getting suitable y vector for loss calculation: remove the placeholder labels (-1) for unlabeled nodes\n",
        "print(f\"homogeneous y started out with size: {hd.y.shape}\")\n",
        "processed_y = hd.y[hd.y != -1]\n",
        "print(f\"After removing the placeholder labels, homogeneous y now has size: {processed_y.shape}\")"
      ],
      "metadata": {
        "colab": {
          "base_uri": "https://localhost:8080/"
        },
        "id": "XpGKKQQa6-Px",
        "outputId": "49bf0d0c-bf02-45d1-918d-da10cde02777"
      },
      "execution_count": 27,
      "outputs": [
        {
          "output_type": "stream",
          "name": "stdout",
          "text": [
            "homogeneous y started out with size: torch.Size([3441217])\n",
            "After removing the placeholder labels, homogeneous y now has size: torch.Size([246812])\n"
          ]
        }
      ]
    },
    {
      "cell_type": "code",
      "source": [
        "# Assuming we already have the logits from the model\n",
        "logits = torch.rand(hd.y.shape[0], hd.y.max() + 1) # using hd.y.max() + 1 to include all labels up to hd.y.max() and the 0 label\n",
        "print(f\"shape of logits before removing logits without labels: {logits.shape}\")\n",
        "\n",
        "# reorder the logits to match hd.y and remove the logits that match to placeholder labels\n",
        "logits = logits[hd.y_index][hd.y != -1]\n",
        "\n",
        "print(f\"shape of logits after masking out the ones without labels: {logits.shape}\")\n",
        "print(f\"now the logits with shape: {logits.shape} are aligned with the y labels with shape: {processed_y.shape}\")"
      ],
      "metadata": {
        "colab": {
          "base_uri": "https://localhost:8080/"
        },
        "id": "HjlCYXl4J_95",
        "outputId": "1950daaa-7d1c-40fe-aadb-5041a694ba63"
      },
      "execution_count": 43,
      "outputs": [
        {
          "output_type": "stream",
          "name": "stdout",
          "text": [
            "shape of logits before removing logits without labels: torch.Size([3441217, 8])\n",
            "shape of logits after masking out the ones without labels: torch.Size([246812, 8])\n",
            "now the logits with shape: torch.Size([246812, 8]) are aligned with the y labels with shape: torch.Size([246812])\n"
          ]
        }
      ]
    }
  ]
}