{
 "cells": [
  {
   "cell_type": "code",
   "execution_count": 29,
   "metadata": {},
   "outputs": [],
   "source": [
    "import pandas as pd\n",
    "import json\n",
    "\n",
    "# Reads in the file as a panda data frame \n",
    "def read_xpt(file_path):\n",
    "    with open(file_path, \"rb\") as f:\n",
    "        file = pd.read_sas(f, format=\"xport\")\n",
    "    return file\n",
    "\n",
    "# this reads in a file and reads it as a json file \n",
    "def read_json(file_path):\n",
    "    with open(file_path, \"r\") as f:\n",
    "        file = json.load(f)\n",
    "    return file\n",
    "\n",
    "# this saves the json file on the described directory \n",
    "def save_json(file, file_path):\n",
    "    with open(file_path, \"w\") as f:\n",
    "        json.dump(file, f,indent=4)"
   ]
  },
  {
   "cell_type": "code",
   "execution_count": 30,
   "metadata": {},
   "outputs": [],
   "source": [
    "import requests \n",
    "from bs4 import BeautifulSoup \n",
    "import html5lib\n",
    "import csv\n",
    "\n",
    "URL = 'https://wwwn.cdc.gov/Nchs/Nhanes/2017-2018/ACQ_J.htm'\n",
    "html = requests.get(URL)\n",
    "ACQ_G_file = BeautifulSoup(html.text,'html.parser')\n"
   ]
  },
  {
   "cell_type": "code",
   "execution_count": 31,
   "metadata": {},
   "outputs": [
    {
     "name": "stdout",
     "output_type": "stream",
     "text": [
      "The Acculturation section (variable name prefix ACQ) provides personal interview data on language use in the home. Questions asked and response categories used were customized, based on self-identified race and Hispanic origin, as shown in the table below.\n",
      "[['Non-Hispanic white, Non-Hispanic black, or other race - including multi-racial', 'Mexican American or other Hispanic', 'Non-Hispanic Asian'], ['What language(s) do you usually speak at home?', 'What language(s) do you usually speak at home? Do you speak only Spanish, more Spanish than English, both equally, more English than Spanish, or only English?', 'Do you speak only (NON-ENGLISH LANGUAGE), more (NON-ENGLISH LANGUAGE) than English, both equally, more English than (NON-ENGLISH LANGUAGE), or only English?\\n\\r\\n            Note: Participant self-reported \"NON-ENGLISH LANGUAGE\" used at home is pre-filled in this question during the interview.'], ['Check all that apply:\\nEnglish (ACD011A)\\nSpanish (ACD011B)\\nOther languages (ACD011C)', 'Only Spanish\\nMore Spanish than English\\nBoth equally\\nMore English than Spanish\\nOnly English', 'Only non-English language\\nMore non-English than English\\nBoth equally\\nMore English than non-English language\\nOnly English'], ['ACD011A-C', 'ACD040', 'ACD110']]\n",
      "[\"Participants' Self-Identification\", 'Question Asked', 'Response Categories', 'Variable Name for Data Release']\n"
     ]
    }
   ],
   "source": [
    "# original code to get paragraph in component_description\n",
    "\n",
    "# div_element = ACQ_G_file.find('div',id =\"Sections\")\n",
    "# h2_element = div_element.find('p')\n",
    "# p_content = h2_element.get_text(strip=True)\n",
    "\n",
    "# imrpoved code to find component_descirption\n",
    "\n",
    "# component description \n",
    "component_description = ACQ_G_file.find(id='Component_Description').find_next('p').text.strip()\n",
    "print(component_description)\n",
    "\n",
    "# first table \n",
    "table = ACQ_G_file.find('table')\n",
    "thread = table.find('tr')\n",
    "tbody = table.find('tbody')\n",
    "\n",
    "table1_col_name = [th.get_text(strip=True) for th in thread.find_all('th')]\n",
    "table1_data = []\n",
    "\n",
    "# get the four coulumns into four different lists\n",
    "self_identification = [tr.find_all('td')[0].text.strip() for tr in tbody.find_all('tr')]\n",
    "questions_asked = [tr.find_all('td')[1].text.strip() for tr in tbody.find_all('tr')]\n",
    "response_categories = [tr.find_all('td')[2].text.strip().replace('\\r', '').replace('            ', '') for tr in tbody.find_all('tr')]\n",
    "variable_name = [tr.find_all('td')[3].text.strip() for tr in tbody.find_all('tr')]\n",
    "\n",
    "table1_data = [self_identification,questions_asked,response_categories,variable_name]\n",
    "print(table1_data)\n",
    "print(table1_col_name)\n",
    "# print(self_identification)\n",
    "# print(questions_asked)\n",
    "# print(response_categories)\n",
    "# print(variable_name)\n",
    "\n"
   ]
  },
  {
   "cell_type": "code",
   "execution_count": 32,
   "metadata": {},
   "outputs": [
    {
     "name": "stdout",
     "output_type": "stream",
     "text": [
      "Edits were made to ensure the completeness, consistency and analytic usefulness of the data.\n"
     ]
    }
   ],
   "source": [
    "# for data processing and editing \n",
    "data_processing = ACQ_G_file.find(id=\"Data_Processing_and_Editing\").find_next('p').text.strip()\n",
    "print(data_processing)    "
   ]
  },
  {
   "cell_type": "code",
   "execution_count": 33,
   "metadata": {},
   "outputs": [
    {
     "name": "stdout",
     "output_type": "stream",
     "text": [
      "['1', '77', '99', '.']\n",
      "['English', 'Refused', \"Don't know\", 'Missing']\n",
      "['5230', '0', '0', '3191']\n",
      "['5230', '5230', '5230', '8421']\n",
      "['', '', '', '']\n",
      "['8', '.']\n",
      "['Spanish', 'Missing']\n",
      "['16', '8405']\n",
      "['16', '8421']\n",
      "['', '']\n",
      "['9', '.']\n",
      "['Other', 'Missing']\n",
      "['159', '8262']\n",
      "['159', '8421']\n",
      "['', '']\n",
      "['1', '2', '3', '4', '5', '7', '9', '.']\n",
      "['Only Spanish,', 'More Spanish than English', 'Both equally', 'More English than Spanish', 'Only English', 'Refused', \"Don't know\", 'Missing']\n",
      "['529', '322', '334', '353', '414', '2', '3', '6464']\n",
      "['529', '851', '1185', '1538', '1952', '1954', '1957', '8421']\n",
      "['', '', '', '', '', '', '', '']\n",
      "['1', '2', '3', '4', '5', '7', '9', '.']\n",
      "['Only Non-English language', 'More Non-English than English', 'Both equally', 'More English than Non-English', 'Only English', 'Refused', \"Don't know\", 'Missing']\n",
      "['439', '107', '124', '134', '327', '0', '0', '7290']\n",
      "['439', '546', '670', '804', '1131', '1131', '1131', '8421']\n",
      "['', '', '', '', '', '', '', '']\n",
      "[{'Title': 'Respondent sequence number', 'Variable Name:': 'SEQN', 'SAS Label:': 'Respondent sequence number', 'English Text:': 'Respondent sequence number.', 'Target:': 'Both males and females 3 YEARS - 150 YEARS'}, {'Title': 'CHECK ITEM', 'Variable Name:': 'ACQBOX1', 'English Instructions:': 'BOX 1. CHECK ITEM: IF THE PARTICIPANT SELF-IDENTIFIED AS \"MEXICAN AMERICAN\" OR \"OTHER HISPANIC\" (i.e., RIDRETH3=1, OR 2), GO TO ACD040;  IF THE PARTICIPANT SELF-IDENTIFIED AS \"NON-HISPANIC ASIAN\" (i.e., RIDRETH3=6), GO TO ACD110;  IF THE PARTICIPANT SELF-IDENTIFIED AS \"NON-HISPANIC WHITE\", \"NON-HISPANIC BLACK\", OR \"OTHER RACE - INCLUDING MULTI-RACIAL\" (i.e., RIDRETH3=3, 4, OR 7), CONTINUE WITH ACD011A.', 'Target:': 'Both males and females 3 YEARS - 150 YEARS'}, {'Title': 'Speak English at home', 'Variable Name:': 'ACD011A', 'SAS Label:': 'Speak English at home - NHW or NHB', 'English Text:': 'What language(s) {do you/does SP} usually speak at home?', 'English Instructions:': 'CODE ALL THAT APPLY.\\rTHIS VARIABLE ONLY APPLIES TO PARTICIPANTS SELF-IDENTIFIED AS \"NON-HISPANIC WHITE\", \"NON-HISPANIC BLACK\", OR \"OTHER RACE - INCLUDING MULTI-RACIAL\" (i.e., RIDRETH3=3, 4, OR 7).', 'Target:': 'Both males and females 3 YEARS - 150 YEARS', 'Table:': {'Code or Value': ['1', '77', '99', '.'], 'Value Description': ['English', 'Refused', \"Don't know\", 'Missing'], 'Count': ['5230', '0', '0', '3191'], 'Cumulative': ['5230', '5230', '5230', '8421'], 'Skip to Item': ['', '', '', '']}}, {'Title': 'Speak Spanish at home', 'Variable Name:': 'ACD011B', 'SAS Label:': 'Speak Spanish at home - NHW or NHB', 'English Text:': 'What language(s) {do you/does SP} usually speak at home?', 'English Instructions:': 'CODE ALL THAT APPLY.\\rTHIS VARIABLE ONLY APPLIES TO PARTICIPANTS SELF-IDENTIFIED AS \"NON-HISPANIC WHITE\", \"NON-HISPANIC BLACK\", OR \"OTHER RACE - INCLUDING MULTI-RACIAL\" (i.e., RIDRETH3=3, 4, OR 7).', 'Target:': 'Both males and females 3 YEARS - 150 YEARS', 'Table:': {'Code or Value': ['8', '.'], 'Value Description': ['Spanish', 'Missing'], 'Count': ['16', '8405'], 'Cumulative': ['16', '8421'], 'Skip to Item': ['', '']}}, {'Title': 'Speak other language at home', 'Variable Name:': 'ACD011C', 'SAS Label:': 'Speak other language at home -NHW or NHB', 'English Text:': 'What language(s) {do you/does SP} usually speak at home?', 'English Instructions:': 'CODE ALL THAT APPLY.\\rTHIS VARIABLE ONLY APPLIES TO PARTICIPANTS SELF-IDENTIFIED AS \"NON-HISPANIC WHITE\", \"NON-HISPANIC BLACK\", OR \"OTHER RACE - INCLUDING MULTI-RACIAL\" (i.e., RIDRETH3=3, 4, OR 7).', 'Target:': 'Both males and females 3 YEARS - 150 YEARS', 'Table:': {'Code or Value': ['9', '.'], 'Value Description': ['Other', 'Missing'], 'Count': ['159', '8262'], 'Cumulative': ['159', '8421'], 'Skip to Item': ['', '']}}, {'Title': 'Language(s) spoken at home', 'Variable Name:': 'ACD040', 'SAS Label:': 'Language(s) spoken at home - Hispanics', 'English Text:': \"Now I'm going to ask you about language use.\\rWhat language(s) {do you/does SP} usually speak at home?  {Do you/Does he/Does she} speak only Spanish, more Spanish than English, both equally, more English than Spanish, or only English?\", 'English Instructions:': 'HAND CARD ACQ1.\\rTHIS VARIABLE ONLY APPLIES TO PARTICIPANTS SELF-IDENTIFIED AS \"MEXICAN AMERICAN\" OR \"OTHER HISPANIC\" (i.e., RIDRETH3=1, OR 2).', 'Target:': 'Both males and females 3 YEARS - 150 YEARS', 'Table:': {'Code or Value': ['1', '2', '3', '4', '5', '7', '9', '.'], 'Value Description': ['Only Spanish,', 'More Spanish than English', 'Both equally', 'More English than Spanish', 'Only English', 'Refused', \"Don't know\", 'Missing'], 'Count': ['529', '322', '334', '353', '414', '2', '3', '6464'], 'Cumulative': ['529', '851', '1185', '1538', '1952', '1954', '1957', '8421'], 'Skip to Item': ['', '', '', '', '', '', '', '']}}, {'Title': 'Language(s) spoken at home', 'Variable Name:': 'ACD110', 'SAS Label:': 'Language(s) spoken at home - Asians', 'English Text:': '{Do you/Does SP} speak only (NON-ENGLISH LANGUAGE), more (NON-ENGLISH LANGUAGE) than English, both equally, more English than (NON-ENGLISH LANGUAGE), or only English?', 'English Instructions:': 'THIS VARIABLE ONLY APPLIES TO PARTICIPANTS SELF-IDENTIFIED \"NON-HISPANIC ASIAN\" (i.e., RIDRETH3=6).', 'Target:': 'Both males and females 3 YEARS - 150 YEARS', 'Table:': {'Code or Value': ['1', '2', '3', '4', '5', '7', '9', '.'], 'Value Description': ['Only Non-English language', 'More Non-English than English', 'Both equally', 'More English than Non-English', 'Only English', 'Refused', \"Don't know\", 'Missing'], 'Count': ['439', '107', '124', '134', '327', '0', '0', '7290'], 'Cumulative': ['439', '546', '670', '804', '1131', '1131', '1131', '8421'], 'Skip to Item': ['', '', '', '', '', '', '', '']}}]\n"
     ]
    }
   ],
   "source": [
    "# Codebook and Frequencies \n",
    "\n",
    "all_variable_keys = [] # contains the bolded text for codebook and frequencies \n",
    "all_variable_values = [] # contains the unbolded text that described the bolded text \n",
    "Data_For_tables = [] # contains the data for each table of the page. \n",
    "table_col_names = [] # contains the names for each column of each table. \n",
    "has_table = [] #use to see if block as table or not table, 0 for no and 1 for yes. \n",
    "list_dict = []\n",
    "name_block = []\n",
    "\n",
    "''' each codebook block starts with 'div',class='pagebreak'. So I iterate through creating list for each set of data. \n",
    "created a condtional within the for loop to check if they have a table. IF the block has a table it pulls all the data \n",
    "from the table and makes a nested list. \n",
    "'''\n",
    "for variable_name in ACQ_G_file.find_all('div',class_=\"pagebreak\"):\n",
    "\n",
    "    codebook_dict = {}\n",
    "    title_text = variable_name.find('h3').get_text()\n",
    "    title_part = [part.strip() for part in title_text.split('-')]\n",
    "    name_block.append(title_part[0])\n",
    "    codebook_dict['Title']=title_part[1]\n",
    "    # print(title_part)\n",
    "    # gets all the bolded text from the block like Variable Name and SAS label \n",
    "    variable_keys = [dt.get_text(strip=True) for dt in variable_name.find_all('dt')]\n",
    "    # gets all the unbolded text fromn the block which is used to describe the variable. \n",
    "    variable_attributes = [dd.get_text(strip=True).replace('\\r\\n\\t\\t\\t',' ').replace('\\n','') for dd in variable_name.find_all('dd')]\n",
    "\n",
    "    for i in range(len(variable_keys)):\n",
    "        codebook_dict[variable_keys[i]] = variable_attributes[i]\n",
    "    \n",
    "    # append both list to global list \n",
    "    # all_variable_keys.append(variable_keys)\n",
    "    # all_variable_values.append(variable_attributes)\n",
    "\n",
    "    # checks to see if the block has a table \n",
    "    if variable_name.find('table'):\n",
    "\n",
    "        #goes to code block named table then tr  \n",
    "        table = variable_name.find('table')\n",
    "        thread = table.find('tr')\n",
    "\n",
    "        # pulls the columns names of the table \n",
    "        column_name = [th.get_text(strip=True) for th in thread.find_all('th')]\n",
    "        #table_col_names.append(column_name)\n",
    "\n",
    "\n",
    "        # print(column_name)\n",
    "        # print()\n",
    "\n",
    "        # empty list for data in the table \n",
    "        data_for_col = []\n",
    "\n",
    "        # Goes into the body of the table \n",
    "        tbody = table.find('tbody')\n",
    "\n",
    "        # for loop to iterate through each column \n",
    "        for i in range(len(column_name)):\n",
    "\n",
    "            # gets data for each olumn stores it in a list\n",
    "            column_data = [tr.find_all('td')[i].text.strip() for tr in tbody.find_all('tr')]\n",
    "            data_for_col.append(column_data)\n",
    "            print(column_data)\n",
    "\n",
    "        table_dict = {}\n",
    "        for i in range(len(column_name)):\n",
    "            table_dict[column_name[i]] = data_for_col[i]\n",
    "        Data_For_tables.append(data_for_col)\n",
    "        has_table.append(1)\n",
    "        codebook_dict['Table:'] = table_dict\n",
    "    else:\n",
    "        has_table.append(0)   \n",
    "    list_dict.append(codebook_dict)\n",
    "print(list_dict)   \n",
    "#     print(variable_keys)\n",
    "#     print(variable_attributes)\n",
    "#     print()\n",
    "#     print(table_col_names)\n",
    "#     print()\n",
    "#     print(Data_For_tables)\n",
    "#     print()\n",
    "#     print(all_variable_keys)\n",
    "#     print()\n",
    "#     print(all_variable_values)\n",
    "# print(has_table)"
   ]
  },
  {
   "cell_type": "code",
   "execution_count": 34,
   "metadata": {},
   "outputs": [
    {
     "name": "stdout",
     "output_type": "stream",
     "text": [
      "{'SEQN': {'Title': 'Respondent sequence number', 'Variable Name:': 'SEQN', 'SAS Label:': 'Respondent sequence number', 'English Text:': 'Respondent sequence number.', 'Target:': 'Both males and females 3 YEARS - 150 YEARS'}, 'ACQBOX1': {'Title': 'CHECK ITEM', 'Variable Name:': 'ACQBOX1', 'English Instructions:': 'BOX 1. CHECK ITEM: IF THE PARTICIPANT SELF-IDENTIFIED AS \"MEXICAN AMERICAN\" OR \"OTHER HISPANIC\" (i.e., RIDRETH3=1, OR 2), GO TO ACD040;  IF THE PARTICIPANT SELF-IDENTIFIED AS \"NON-HISPANIC ASIAN\" (i.e., RIDRETH3=6), GO TO ACD110;  IF THE PARTICIPANT SELF-IDENTIFIED AS \"NON-HISPANIC WHITE\", \"NON-HISPANIC BLACK\", OR \"OTHER RACE - INCLUDING MULTI-RACIAL\" (i.e., RIDRETH3=3, 4, OR 7), CONTINUE WITH ACD011A.', 'Target:': 'Both males and females 3 YEARS - 150 YEARS'}, 'ACD011A': {'Title': 'Speak English at home', 'Variable Name:': 'ACD011A', 'SAS Label:': 'Speak English at home - NHW or NHB', 'English Text:': 'What language(s) {do you/does SP} usually speak at home?', 'English Instructions:': 'CODE ALL THAT APPLY.\\rTHIS VARIABLE ONLY APPLIES TO PARTICIPANTS SELF-IDENTIFIED AS \"NON-HISPANIC WHITE\", \"NON-HISPANIC BLACK\", OR \"OTHER RACE - INCLUDING MULTI-RACIAL\" (i.e., RIDRETH3=3, 4, OR 7).', 'Target:': 'Both males and females 3 YEARS - 150 YEARS', 'Table:': {'Code or Value': ['1', '77', '99', '.'], 'Value Description': ['English', 'Refused', \"Don't know\", 'Missing'], 'Count': ['5230', '0', '0', '3191'], 'Cumulative': ['5230', '5230', '5230', '8421'], 'Skip to Item': ['', '', '', '']}}, 'ACD011B': {'Title': 'Speak Spanish at home', 'Variable Name:': 'ACD011B', 'SAS Label:': 'Speak Spanish at home - NHW or NHB', 'English Text:': 'What language(s) {do you/does SP} usually speak at home?', 'English Instructions:': 'CODE ALL THAT APPLY.\\rTHIS VARIABLE ONLY APPLIES TO PARTICIPANTS SELF-IDENTIFIED AS \"NON-HISPANIC WHITE\", \"NON-HISPANIC BLACK\", OR \"OTHER RACE - INCLUDING MULTI-RACIAL\" (i.e., RIDRETH3=3, 4, OR 7).', 'Target:': 'Both males and females 3 YEARS - 150 YEARS', 'Table:': {'Code or Value': ['8', '.'], 'Value Description': ['Spanish', 'Missing'], 'Count': ['16', '8405'], 'Cumulative': ['16', '8421'], 'Skip to Item': ['', '']}}, 'ACD011C': {'Title': 'Speak other language at home', 'Variable Name:': 'ACD011C', 'SAS Label:': 'Speak other language at home -NHW or NHB', 'English Text:': 'What language(s) {do you/does SP} usually speak at home?', 'English Instructions:': 'CODE ALL THAT APPLY.\\rTHIS VARIABLE ONLY APPLIES TO PARTICIPANTS SELF-IDENTIFIED AS \"NON-HISPANIC WHITE\", \"NON-HISPANIC BLACK\", OR \"OTHER RACE - INCLUDING MULTI-RACIAL\" (i.e., RIDRETH3=3, 4, OR 7).', 'Target:': 'Both males and females 3 YEARS - 150 YEARS', 'Table:': {'Code or Value': ['9', '.'], 'Value Description': ['Other', 'Missing'], 'Count': ['159', '8262'], 'Cumulative': ['159', '8421'], 'Skip to Item': ['', '']}}, 'ACD040': {'Title': 'Language(s) spoken at home', 'Variable Name:': 'ACD040', 'SAS Label:': 'Language(s) spoken at home - Hispanics', 'English Text:': \"Now I'm going to ask you about language use.\\rWhat language(s) {do you/does SP} usually speak at home?  {Do you/Does he/Does she} speak only Spanish, more Spanish than English, both equally, more English than Spanish, or only English?\", 'English Instructions:': 'HAND CARD ACQ1.\\rTHIS VARIABLE ONLY APPLIES TO PARTICIPANTS SELF-IDENTIFIED AS \"MEXICAN AMERICAN\" OR \"OTHER HISPANIC\" (i.e., RIDRETH3=1, OR 2).', 'Target:': 'Both males and females 3 YEARS - 150 YEARS', 'Table:': {'Code or Value': ['1', '2', '3', '4', '5', '7', '9', '.'], 'Value Description': ['Only Spanish,', 'More Spanish than English', 'Both equally', 'More English than Spanish', 'Only English', 'Refused', \"Don't know\", 'Missing'], 'Count': ['529', '322', '334', '353', '414', '2', '3', '6464'], 'Cumulative': ['529', '851', '1185', '1538', '1952', '1954', '1957', '8421'], 'Skip to Item': ['', '', '', '', '', '', '', '']}}, 'ACD110': {'Title': 'Language(s) spoken at home', 'Variable Name:': 'ACD110', 'SAS Label:': 'Language(s) spoken at home - Asians', 'English Text:': '{Do you/Does SP} speak only (NON-ENGLISH LANGUAGE), more (NON-ENGLISH LANGUAGE) than English, both equally, more English than (NON-ENGLISH LANGUAGE), or only English?', 'English Instructions:': 'THIS VARIABLE ONLY APPLIES TO PARTICIPANTS SELF-IDENTIFIED \"NON-HISPANIC ASIAN\" (i.e., RIDRETH3=6).', 'Target:': 'Both males and females 3 YEARS - 150 YEARS', 'Table:': {'Code or Value': ['1', '2', '3', '4', '5', '7', '9', '.'], 'Value Description': ['Only Non-English language', 'More Non-English than English', 'Both equally', 'More English than Non-English', 'Only English', 'Refused', \"Don't know\", 'Missing'], 'Count': ['439', '107', '124', '134', '327', '0', '0', '7290'], 'Cumulative': ['439', '546', '670', '804', '1131', '1131', '1131', '8421'], 'Skip to Item': ['', '', '', '', '', '', '', '']}}}\n",
      "{'Component Description': {'Description': 'The Acculturation section (variable name prefix ACQ) provides personal interview data on language use in the home. Questions asked and response categories used were customized, based on self-identified race and Hispanic origin, as shown in the table below.', 'Table': {\"Participants' Self-Identification\": ['Non-Hispanic white, Non-Hispanic black, or other race - including multi-racial', 'Mexican American or other Hispanic', 'Non-Hispanic Asian'], 'Question Asked': ['What language(s) do you usually speak at home?', 'What language(s) do you usually speak at home? Do you speak only Spanish, more Spanish than English, both equally, more English than Spanish, or only English?', 'Do you speak only (NON-ENGLISH LANGUAGE), more (NON-ENGLISH LANGUAGE) than English, both equally, more English than (NON-ENGLISH LANGUAGE), or only English?\\n\\r\\n            Note: Participant self-reported \"NON-ENGLISH LANGUAGE\" used at home is pre-filled in this question during the interview.'], 'Response Categories': ['Check all that apply:\\nEnglish (ACD011A)\\nSpanish (ACD011B)\\nOther languages (ACD011C)', 'Only Spanish\\nMore Spanish than English\\nBoth equally\\nMore English than Spanish\\nOnly English', 'Only non-English language\\nMore non-English than English\\nBoth equally\\nMore English than non-English language\\nOnly English'], 'Variable Name for Data Release': ['ACD011A-C', 'ACD040', 'ACD110']}}, 'Data Processsing and Editing': {'Description': 'Edits were made to ensure the completeness, consistency and analytic usefulness of the data.'}, 'Codebook and Frequencies': {'SEQN': {'Title': 'Respondent sequence number', 'Variable Name:': 'SEQN', 'SAS Label:': 'Respondent sequence number', 'English Text:': 'Respondent sequence number.', 'Target:': 'Both males and females 3 YEARS - 150 YEARS'}, 'ACQBOX1': {'Title': 'CHECK ITEM', 'Variable Name:': 'ACQBOX1', 'English Instructions:': 'BOX 1. CHECK ITEM: IF THE PARTICIPANT SELF-IDENTIFIED AS \"MEXICAN AMERICAN\" OR \"OTHER HISPANIC\" (i.e., RIDRETH3=1, OR 2), GO TO ACD040;  IF THE PARTICIPANT SELF-IDENTIFIED AS \"NON-HISPANIC ASIAN\" (i.e., RIDRETH3=6), GO TO ACD110;  IF THE PARTICIPANT SELF-IDENTIFIED AS \"NON-HISPANIC WHITE\", \"NON-HISPANIC BLACK\", OR \"OTHER RACE - INCLUDING MULTI-RACIAL\" (i.e., RIDRETH3=3, 4, OR 7), CONTINUE WITH ACD011A.', 'Target:': 'Both males and females 3 YEARS - 150 YEARS'}, 'ACD011A': {'Title': 'Speak English at home', 'Variable Name:': 'ACD011A', 'SAS Label:': 'Speak English at home - NHW or NHB', 'English Text:': 'What language(s) {do you/does SP} usually speak at home?', 'English Instructions:': 'CODE ALL THAT APPLY.\\rTHIS VARIABLE ONLY APPLIES TO PARTICIPANTS SELF-IDENTIFIED AS \"NON-HISPANIC WHITE\", \"NON-HISPANIC BLACK\", OR \"OTHER RACE - INCLUDING MULTI-RACIAL\" (i.e., RIDRETH3=3, 4, OR 7).', 'Target:': 'Both males and females 3 YEARS - 150 YEARS', 'Table:': {'Code or Value': ['1', '77', '99', '.'], 'Value Description': ['English', 'Refused', \"Don't know\", 'Missing'], 'Count': ['5230', '0', '0', '3191'], 'Cumulative': ['5230', '5230', '5230', '8421'], 'Skip to Item': ['', '', '', '']}}, 'ACD011B': {'Title': 'Speak Spanish at home', 'Variable Name:': 'ACD011B', 'SAS Label:': 'Speak Spanish at home - NHW or NHB', 'English Text:': 'What language(s) {do you/does SP} usually speak at home?', 'English Instructions:': 'CODE ALL THAT APPLY.\\rTHIS VARIABLE ONLY APPLIES TO PARTICIPANTS SELF-IDENTIFIED AS \"NON-HISPANIC WHITE\", \"NON-HISPANIC BLACK\", OR \"OTHER RACE - INCLUDING MULTI-RACIAL\" (i.e., RIDRETH3=3, 4, OR 7).', 'Target:': 'Both males and females 3 YEARS - 150 YEARS', 'Table:': {'Code or Value': ['8', '.'], 'Value Description': ['Spanish', 'Missing'], 'Count': ['16', '8405'], 'Cumulative': ['16', '8421'], 'Skip to Item': ['', '']}}, 'ACD011C': {'Title': 'Speak other language at home', 'Variable Name:': 'ACD011C', 'SAS Label:': 'Speak other language at home -NHW or NHB', 'English Text:': 'What language(s) {do you/does SP} usually speak at home?', 'English Instructions:': 'CODE ALL THAT APPLY.\\rTHIS VARIABLE ONLY APPLIES TO PARTICIPANTS SELF-IDENTIFIED AS \"NON-HISPANIC WHITE\", \"NON-HISPANIC BLACK\", OR \"OTHER RACE - INCLUDING MULTI-RACIAL\" (i.e., RIDRETH3=3, 4, OR 7).', 'Target:': 'Both males and females 3 YEARS - 150 YEARS', 'Table:': {'Code or Value': ['9', '.'], 'Value Description': ['Other', 'Missing'], 'Count': ['159', '8262'], 'Cumulative': ['159', '8421'], 'Skip to Item': ['', '']}}, 'ACD040': {'Title': 'Language(s) spoken at home', 'Variable Name:': 'ACD040', 'SAS Label:': 'Language(s) spoken at home - Hispanics', 'English Text:': \"Now I'm going to ask you about language use.\\rWhat language(s) {do you/does SP} usually speak at home?  {Do you/Does he/Does she} speak only Spanish, more Spanish than English, both equally, more English than Spanish, or only English?\", 'English Instructions:': 'HAND CARD ACQ1.\\rTHIS VARIABLE ONLY APPLIES TO PARTICIPANTS SELF-IDENTIFIED AS \"MEXICAN AMERICAN\" OR \"OTHER HISPANIC\" (i.e., RIDRETH3=1, OR 2).', 'Target:': 'Both males and females 3 YEARS - 150 YEARS', 'Table:': {'Code or Value': ['1', '2', '3', '4', '5', '7', '9', '.'], 'Value Description': ['Only Spanish,', 'More Spanish than English', 'Both equally', 'More English than Spanish', 'Only English', 'Refused', \"Don't know\", 'Missing'], 'Count': ['529', '322', '334', '353', '414', '2', '3', '6464'], 'Cumulative': ['529', '851', '1185', '1538', '1952', '1954', '1957', '8421'], 'Skip to Item': ['', '', '', '', '', '', '', '']}}, 'ACD110': {'Title': 'Language(s) spoken at home', 'Variable Name:': 'ACD110', 'SAS Label:': 'Language(s) spoken at home - Asians', 'English Text:': '{Do you/Does SP} speak only (NON-ENGLISH LANGUAGE), more (NON-ENGLISH LANGUAGE) than English, both equally, more English than (NON-ENGLISH LANGUAGE), or only English?', 'English Instructions:': 'THIS VARIABLE ONLY APPLIES TO PARTICIPANTS SELF-IDENTIFIED \"NON-HISPANIC ASIAN\" (i.e., RIDRETH3=6).', 'Target:': 'Both males and females 3 YEARS - 150 YEARS', 'Table:': {'Code or Value': ['1', '2', '3', '4', '5', '7', '9', '.'], 'Value Description': ['Only Non-English language', 'More Non-English than English', 'Both equally', 'More English than Non-English', 'Only English', 'Refused', \"Don't know\", 'Missing'], 'Count': ['439', '107', '124', '134', '327', '0', '0', '7290'], 'Cumulative': ['439', '546', '670', '804', '1131', '1131', '1131', '8421'], 'Skip to Item': ['', '', '', '', '', '', '', '']}}}}\n"
     ]
    }
   ],
   "source": [
    "res = {\n",
    "    \"Component Description\": \n",
    "    {\n",
    "        \"Description\": component_description,\n",
    "        \"Table\":{} \n",
    "    },\n",
    "    \"Data Processsing and Editing\":\n",
    "        {\n",
    "        \"Description\": data_processing\n",
    "        },\n",
    "    \"Codebook and Frequencies\":{}\n",
    "    \n",
    "}\n",
    "comp_des_table = {}\n",
    "for i in range(len(table1_col_name)):\n",
    "    comp_des_table[table1_col_name[i]] = table1_data[i]\n",
    "res[\"Component Description\"][\"Table\"] = comp_des_table \n",
    "\n",
    "codebook_freq = {}\n",
    "for i in range(len(list_dict)):\n",
    "    codebook_freq[name_block[i]] = list_dict[i]\n",
    "print(codebook_freq)\n",
    "res[\"Codebook and Frequencies\"] = codebook_freq\n",
    "\n",
    "save_path = \"CODEBOOK_ACQ_J.json\"\n",
    "\n",
    "save_json(res, save_path)\n",
    "print(res)"
   ]
  }
 ],
 "metadata": {
  "kernelspec": {
   "display_name": "Python 3",
   "language": "python",
   "name": "python3"
  },
  "language_info": {
   "codemirror_mode": {
    "name": "ipython",
    "version": 3
   },
   "file_extension": ".py",
   "mimetype": "text/x-python",
   "name": "python",
   "nbconvert_exporter": "python",
   "pygments_lexer": "ipython3",
   "version": "3.12.3"
  }
 },
 "nbformat": 4,
 "nbformat_minor": 2
}
