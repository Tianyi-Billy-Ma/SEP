{
 "cells": [
  {
   "cell_type": "code",
   "execution_count": null,
   "metadata": {},
   "outputs": [],
   "source": [
    "import json\n",
    "import pickle \n",
    "import torch \n",
    "from torch_geometric.data import Data\n",
    "import numpy as np\n"
   ]
  },
  {
   "cell_type": "code",
   "execution_count": null,
   "metadata": {},
   "outputs": [],
   "source": [
    "with open('edges.json', 'r') as f:\n",
    "    edges = json.load(f)\n",
    "\n",
    "with open('labels.json', 'r') as f:\n",
    "    labels = json.load(f)\n",
    "\n",
    "with open('keyword_embeddings.pkl', 'rb') as f:\n",
    "    keyword_embeddings = pickle.load(f)\n",
    "\n",
    "with open('tweet_embeddings.pkl', 'rb') as f:\n",
    "    tweet_embeddings = pickle.load(f)\n",
    "\n",
    "with open('user_embeddings.pkl', 'rb') as f:\n",
    "    user_embeddings = pickle.load(f)"
   ]
  },
  {
   "cell_type": "code",
   "execution_count": null,
   "metadata": {},
   "outputs": [],
   "source": [
    "# print(json.dumps(edges[:5], indent=4))\n",
    "print(json.dumps(edges, indent = 4))"
   ]
  },
  {
   "cell_type": "code",
   "execution_count": null,
   "metadata": {},
   "outputs": [],
   "source": [
    "# print(json.dumps({follow: label for i, (follow, label) in enumerate(labels.items()) if i < 10}, indent = 4))\n",
    "print(json.dumps(labels, indent = 4))"
   ]
  },
  {
   "cell_type": "code",
   "execution_count": null,
   "metadata": {},
   "outputs": [],
   "source": [
    "print(keyword_embeddings)"
   ]
  },
  {
   "cell_type": "code",
   "execution_count": null,
   "metadata": {},
   "outputs": [],
   "source": [
    "print(tweet_embeddings)"
   ]
  },
  {
   "cell_type": "code",
   "execution_count": null,
   "metadata": {},
   "outputs": [],
   "source": [
    "print(user_embeddings)"
   ]
  },
  {
   "cell_type": "code",
   "execution_count": null,
   "metadata": {},
   "outputs": [],
   "source": [
    "\n",
    "def check_missing_values(data, name):\n",
    "    ''' Checks if there are any missing values'''\n",
    "\n",
    "    if isinstance(data, list):\n",
    "        for index, value in enumerate(data):\n",
    "\n",
    "            if isinstance(value, dict) or isinstance(value, list) or isinstance(value, np.ndarray):\n",
    "                check_missing_values(value, name)\n",
    "\n",
    "            elif value is None:\n",
    "                print(f'Missing value in {index} in {name}')\n",
    "        \n",
    "    elif isinstance(data, dict):\n",
    "        for index, (key, value) in enumerate(data.items()):\n",
    "            if isinstance(value, dict) or isinstance(value, list) or isinstance(value, np.ndarray):\n",
    "                check_missing_values(value, name)\n",
    "\n",
    "            elif value is None:\n",
    "                print(f'Missing value in {key} and index {index} in {name}')\n",
    "    \n",
    "    elif isinstance(data, np.ndarray):\n",
    "        for index, value in enumerate(data):\n",
    "\n",
    "            if isinstance(value, dict) or isinstance(value, list) or isinstance(value, np.ndarray):\n",
    "                check_missing_values(value, name)\n",
    "\n",
    "            elif value is None:\n",
    "                print(f'Missing value in {index} in {name}')\n",
    "\n",
    "check_missing_values(edges, 'edges')\n",
    "check_missing_values(labels, 'labels')\n",
    "check_missing_values(keyword_embeddings, 'keyword_embeddings')\n",
    "check_missing_values(tweet_embeddings, 'tweet_embeddings')\n",
    "check_missing_values(user_embeddings, 'user_embeddings')\n",
    "\n"
   ]
  },
  {
   "cell_type": "code",
   "execution_count": null,
   "metadata": {},
   "outputs": [],
   "source": [
    "found = set()\n",
    "duplicates = []\n",
    "for edge in edges:\n",
    "    edge_index = (edge['source_id'], edge['relation'], edge['target_id'])\n",
    "    if edge_index in found:\n",
    "        duplicates.append(edge_index)\n",
    "    else:\n",
    "        found.add(edge_index)\n",
    "if duplicates:\n",
    "    for duplicate in duplicates:\n",
    "        print(duplicates)\n"
   ]
  },
  {
   "cell_type": "code",
   "execution_count": null,
   "metadata": {},
   "outputs": [],
   "source": [
    "found = set()\n",
    "duplicates = []\n",
    "for user in labels.keys():\n",
    "    if user in set():\n",
    "        duplicates.append(user)\n",
    "    else:\n",
    "        found.add(user)\n",
    "        "
   ]
  },
  {
   "cell_type": "code",
   "execution_count": null,
   "metadata": {},
   "outputs": [],
   "source": [
    "def check_embeddings(data, name):\n",
    "    embeddings = data['embeddings']\n",
    "\n",
    "    ebmeddings_len = len(embeddings[0])\n",
    "\n",
    "    if np.isnan(embeddings).any():\n",
    "        print(f'There is a nan value in {name}')\n",
    "    \n",
    "    for embedding in embeddings:\n",
    "        if len(embedding) != ebmeddings_len:\n",
    "            print(f'Not smae size arrays in {name}')\n",
    "            \n",
    "check_embeddings(keyword_embeddings, 'keyword')\n",
    "check_embeddings(tweet_embeddings, 'tweet')\n",
    "check_embeddings(user_embeddings, 'user')\n"
   ]
  },
  {
   "cell_type": "code",
   "execution_count": null,
   "metadata": {},
   "outputs": [],
   "source": [
    "def print_embeddings(data, break_num = 5):\n",
    "    embeddings = data['embeddings']\n",
    "    ids = data['ids']\n",
    "\n",
    "    for i, embedding in enumerate(embeddings):\n",
    "        print(f'{ids[i]} : {embedding}')\n",
    "        if break_num == i:\n",
    "            break\n",
    "        "
   ]
  },
  {
   "cell_type": "code",
   "execution_count": null,
   "metadata": {},
   "outputs": [],
   "source": [
    "print_embeddings(keyword_embeddings)"
   ]
  },
  {
   "cell_type": "code",
   "execution_count": null,
   "metadata": {},
   "outputs": [],
   "source": [
    "print_embeddings(tweet_embeddings)\n"
   ]
  },
  {
   "cell_type": "code",
   "execution_count": null,
   "metadata": {},
   "outputs": [],
   "source": [
    "print_embeddings(user_embeddings)"
   ]
  },
  {
   "cell_type": "code",
   "execution_count": null,
   "metadata": {},
   "outputs": [],
   "source": []
  }
 ],
 "metadata": {
  "kernelspec": {
   "display_name": "Python 3",
   "language": "python",
   "name": "python3"
  },
  "language_info": {
   "codemirror_mode": {
    "name": "ipython",
    "version": 3
   },
   "file_extension": ".py",
   "mimetype": "text/x-python",
   "name": "python",
   "nbconvert_exporter": "python",
   "pygments_lexer": "ipython3",
   "version": "3.8.19"
  }
 },
 "nbformat": 4,
 "nbformat_minor": 2
}
