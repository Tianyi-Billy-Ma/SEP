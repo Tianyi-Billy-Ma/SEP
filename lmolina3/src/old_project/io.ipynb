{
 "cells": [
  {
   "cell_type": "code",
   "execution_count": null,
   "metadata": {},
   "outputs": [],
   "source": [
    "import pandas as pd\n",
    "import json\n",
    "\n",
    "# Reads in the file as a panda data frame \n",
    "def read_xpt(file_path):\n",
    "    with open(file_path, \"rb\") as f:\n",
    "        file = pd.read_sas(f, format=\"xport\")\n",
    "    return file\n",
    "\n",
    "# this reads in a file and reads it as a json file \n",
    "def read_json(file_path):\n",
    "    with open(file_path, \"r\") as f:\n",
    "        file = json.load(f)\n",
    "    return file\n",
    "\n",
    "# this saves the json file on the described directory \n",
    "def save_json(file, file_path):\n",
    "    with open(file_path, \"w\") as f:\n",
    "        json.dump(file, f)"
   ]
  }
 ],
 "metadata": {
  "language_info": {
   "name": "python"
  }
 },
 "nbformat": 4,
 "nbformat_minor": 2
}
