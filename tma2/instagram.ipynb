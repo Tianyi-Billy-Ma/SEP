{
 "cells": [
  {
   "cell_type": "code",
   "execution_count": 1,
   "metadata": {},
   "outputs": [],
   "source": [
    "import instaloader\n",
    "bot = instaloader.Instaloader()"
   ]
  },
  {
   "cell_type": "code",
   "execution_count": 3,
   "metadata": {},
   "outputs": [
    {
     "name": "stdout",
     "output_type": "stream",
     "text": [
      "Loaded session from /Users/tianyima/.config/instaloader/session-mtybilly.\n"
     ]
    }
   ],
   "source": [
    "# In terminal run instaloader --login USERNAME and follow the instructions.\n",
    "# This will create a file called USERNAME in the current directory.\n",
    "# Load the session from the file.\n",
    "USERNAME = \"\"\n",
    "bot.load_session_from_file(USERNAME)\n",
    "# Otherwise you can login with your username and password\n",
    "# login_username = \"\"\n",
    "# login_password = \"\"\n",
    "# bot.login(user=login_username,passwd=login_password)"
   ]
  },
  {
   "cell_type": "code",
   "execution_count": 4,
   "metadata": {},
   "outputs": [],
   "source": [
    "profile = instaloader.Profile.from_username(bot.context, 'python_scripts')"
   ]
  },
  {
   "cell_type": "code",
   "execution_count": 11,
   "metadata": {},
   "outputs": [],
   "source": [
    "followers = [follower.username for follower in profile.get_followers()]"
   ]
  },
  {
   "cell_type": "code",
   "execution_count": 9,
   "metadata": {},
   "outputs": [],
   "source": [
    "followers = profile.get_followers()"
   ]
  },
  {
   "cell_type": "code",
   "execution_count": 11,
   "metadata": {},
   "outputs": [
    {
     "name": "stdout",
     "output_type": "stream",
     "text": [
      "bijitdeb.1\n"
     ]
    }
   ],
   "source": [
    "for follower in followers:\n",
    "    print(follower.username)\n",
    "    break"
   ]
  },
  {
   "cell_type": "code",
   "execution_count": null,
   "metadata": {},
   "outputs": [],
   "source": []
  }
 ],
 "metadata": {
  "kernelspec": {
   "display_name": "work",
   "language": "python",
   "name": "python3"
  },
  "language_info": {
   "codemirror_mode": {
    "name": "ipython",
    "version": 3
   },
   "file_extension": ".py",
   "mimetype": "text/x-python",
   "name": "python",
   "nbconvert_exporter": "python",
   "pygments_lexer": "ipython3",
   "version": "3.11.0"
  }
 },
 "nbformat": 4,
 "nbformat_minor": 2
}
