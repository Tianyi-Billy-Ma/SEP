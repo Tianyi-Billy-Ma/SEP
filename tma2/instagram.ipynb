{
 "cells": [
  {
   "cell_type": "code",
   "execution_count": 2,
   "metadata": {},
   "outputs": [],
   "source": [
    "import instaloader\n",
    "bot = instaloader.Instaloader()"
   ]
  },
  {
   "cell_type": "code",
   "execution_count": 3,
   "metadata": {},
   "outputs": [
    {
     "name": "stdout",
     "output_type": "stream",
     "text": [
      "Loaded session from /Users/tianyima/.config/instaloader/session-thunder_researcher.\n"
     ]
    }
   ],
   "source": [
    "# In terminal run instaloader --login USERNAME and follow the instructions.\n",
    "# This will create a file called USERNAME in the current directory.\n",
    "# Load the session from the file.\n",
    "USERNAME = \"thunder_researcher\"\n",
    "bot.load_session_from_file(USERNAME)\n",
    "# Otherwise you can login with your username and password\n",
    "# login_username = \"\"\n",
    "# login_password = \"\"\n",
    "# bot.login(user=login_username,passwd=login_password)"
   ]
  },
  {
   "cell_type": "code",
   "execution_count": 4,
   "metadata": {},
   "outputs": [],
   "source": [
    "profile = instaloader.Profile.from_username(bot.context, 'python_scripts')"
   ]
  },
  {
   "cell_type": "code",
   "execution_count": 11,
   "metadata": {},
   "outputs": [],
   "source": [
    "followers = [follower.username for follower in profile.get_followers()]"
   ]
  },
  {
   "cell_type": "code",
   "execution_count": 9,
   "metadata": {},
   "outputs": [],
   "source": [
    "followers = profile.get_followers()"
   ]
  },
  {
   "cell_type": "code",
   "execution_count": 11,
   "metadata": {},
   "outputs": [
    {
     "name": "stdout",
     "output_type": "stream",
     "text": [
      "bijitdeb.1\n"
     ]
    }
   ],
   "source": [
    "for follower in followers:\n",
    "    print(follower.username)\n",
    "    break"
   ]
  },
  {
   "cell_type": "code",
   "execution_count": 12,
   "metadata": {},
   "outputs": [],
   "source": [
    "posts = profile.get_posts()"
   ]
  },
  {
   "cell_type": "code",
   "execution_count": 14,
   "metadata": {},
   "outputs": [
    {
     "ename": "SyntaxError",
     "evalue": "'{' was never closed (823083462.py, line 17)",
     "output_type": "error",
     "traceback": [
      "\u001b[0;36m  Cell \u001b[0;32mIn[14], line 17\u001b[0;36m\u001b[0m\n\u001b[0;31m    Comment_Structure = {\u001b[0m\n\u001b[0m                        ^\u001b[0m\n\u001b[0;31mSyntaxError\u001b[0m\u001b[0;31m:\u001b[0m '{' was never closed\n"
     ]
    }
   ],
   "source": [
    "Profile_Structure = {\n",
    "    \"username\": \"XXXXXX\",\n",
    "    \"user_id\": \"XXXXXXX\",\n",
    "    \"profile\": \"XXXXXX\",\n",
    "    \"followers\": [\"user_id1\", \"userid2\", \"userid3\"],\n",
    "    \"followees\": [\"user_id1\", \"userid2\", \"userid3\"],\n",
    "    \"profile_pic\": \"xxxxx.jpg\",\n",
    "    \"posts\": [\"post_id1\", \"post_id2\", ]  ,\n",
    "    \"keywords\": [ str, str, str ]  \n",
    "}\n",
    "Post_Strcture = {\n",
    "    \"user_id\": \"XXXX\",\n",
    "    \"post_id\": \"XXXX\",\n",
    "    \"user_comment\": \"XXXXX\",\n",
    "    \"pic\": \"xxxxx.jpg\",\n",
    "    \"liked_users\": [ \"user_id1\", \"user_id2\", \"user_id3\"],\n",
    "    \"comments\": [\"comment_id1\", \"comment_id2\", \"comment_id3\"],\n",
    "    \"keywords\": [\"str\", \"str\", \"str\"],\n",
    "}\n",
    "Comment_Structure = {\n",
    "    \"user_id\": str,\n",
    "    \"post_id\": str,\n",
    "    \"comment_id\": str,\n",
    "    \"text\": str,\n",
    "    \"keywords\": [str, str, str]\n",
    "}"
   ]
  },
  {
   "cell_type": "code",
   "execution_count": 15,
   "metadata": {},
   "outputs": [],
   "source": [
    "relation_structure = {\n",
    "    \"src_id\": \"user_id\", # \"user_id\"\n",
    "    \"dest_id\": \"user_id\", # \"post_id\", \"comment_id\"\n",
    "    \"relation_type\": \"following\",  # or \"follower\" , \"comment post\", \"liked post\"\n",
    "    #\"post\", \"comment\", \n",
    "}"
   ]
  },
  {
   "cell_type": "code",
   "execution_count": null,
   "metadata": {},
   "outputs": [],
   "source": [
    "src_id  relation_type dest_id\n",
    "\n",
    "\"user_1  following user_2\"\n",
    "\n",
    "relation_structure = {\n",
    "    \"src_id\": \"user_1\", # \"user_id\"\n",
    "    \"dest_id\": \"user_2\", # \"post_id\", \"comment_id\"\n",
    "    \"relation_type\": \"following\",  # or \"follower\" , \"comment post\", \"liked post\"\n",
    "    #\"post\", \"comment\", \n",
    "}"
   ]
  },
  {
   "cell_type": "code",
   "execution_count": 16,
   "metadata": {},
   "outputs": [
    {
     "ename": "SyntaxError",
     "evalue": "invalid syntax (3813118841.py, line 1)",
     "output_type": "error",
     "traceback": [
      "\u001b[0;36m  Cell \u001b[0;32mIn[16], line 1\u001b[0;36m\u001b[0m\n\u001b[0;31m    user_1 comment on post by user_2\u001b[0m\n\u001b[0m           ^\u001b[0m\n\u001b[0;31mSyntaxError\u001b[0m\u001b[0;31m:\u001b[0m invalid syntax\n"
     ]
    }
   ],
   "source": [
    "\"user_1 post post_1\"\n",
    "\n",
    "relation_structure = {\n",
    "    \"src_id\": \"user_1\", # \"user_id\"\n",
    "    \"dest_id\": \"post_1\", # \"post_id\", \"comment_id\"\n",
    "    \"relation_type\": \"post\",  # or \"follower\" , \"comment post\", \"liked post\"\n",
    "    #\"post\", \"comment\", \n",
    "}\n",
    "\n",
    "\n",
    "\"user_1 liked post_1\"\n",
    "\n",
    "relation_structure = {\n",
    "    \"src_id\": \"user_1\", # \"user_id\"\n",
    "    \"dest_id\": \"post_1\", # \"post_id\", \"comment_id\"\n",
    "    \"relation_type\": \"liked\",  # or \"follower\" , \"comment post\", \"liked post\"\n",
    "    #\"post\", \"comment\", \n",
    "}"
   ]
  },
  {
   "cell_type": "code",
   "execution_count": null,
   "metadata": {},
   "outputs": [],
   "source": [
    "relation types: like, following, follower, comment, contain (hashtag), include (emojy), "
   ]
  }
 ],
 "metadata": {
  "kernelspec": {
   "display_name": "work",
   "language": "python",
   "name": "python3"
  },
  "language_info": {
   "codemirror_mode": {
    "name": "ipython",
    "version": 3
   },
   "file_extension": ".py",
   "mimetype": "text/x-python",
   "name": "python",
   "nbconvert_exporter": "python",
   "pygments_lexer": "ipython3",
   "version": "3.11.0"
  }
 },
 "nbformat": 4,
 "nbformat_minor": 2
}
