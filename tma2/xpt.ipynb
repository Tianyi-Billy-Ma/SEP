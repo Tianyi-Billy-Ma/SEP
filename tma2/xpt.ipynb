{
 "cells": [
  {
   "cell_type": "code",
   "execution_count": 1,
   "metadata": {},
   "outputs": [],
   "source": [
    "import pandas as pd\n",
    "import json\n",
    "from src.utils.io import read_json, save_json, read_xpt"
   ]
  },
  {
   "cell_type": "code",
   "execution_count": 4,
   "metadata": {},
   "outputs": [],
   "source": [
    "res = {\n",
    "    \"Component Description\": {\n",
    "        \"description\": \"The Acculturation section (variable name prefix ACQ) provides personal interview data on language use in the home. Questions asked and response categories used were customized, based on self-identified race and Hispanic origin, as shown in the table below.\",\n",
    "        \"table\":   {\n",
    "    \"Participants' Self-Identification\": [\n",
    "        \"Non-Hispanic white, Non-Hispanic black, or other race - including multi-racial\",\n",
    "        \"Mexican American or other Hispanic\",\n",
    "        \"Non-Hispanic Asian\"\n",
    "    ],\n",
    "    \"Question Asked\": [\n",
    "        \"What language(s) do you usually speak at home?\",\n",
    "        \"What language(s) do you usually speak at home? Do you speak only Spanish, more Spanish than English, both equally, more English than Spanish, or only English?\",\n",
    "        \"Do you speak only (NON-ENGLISH LANGUAGE), more (NON-ENGLISH LANGUAGE) than English, both equally, more English than (NON-ENGLISH LANGUAGE), or only English? Note: Participant self-reported 'NON-ENGLISH LANGUAGE' used at home is pre-filled in this question during the interview.\"\n",
    "    ],\n",
    "    \"Response Categories\": [\n",
    "        \"Check all that apply: English (ACD011A) Spanish (ACD011B) Other languages (ACD011C)\",\n",
    "        \"Only Spanish\\nMore Spanish than English\\nBoth equally\\nMore English than Spanish\\nOnly English\",\n",
    "        \"Only non-English language\\nMore non-English than English\\nBoth equally\\nMore English than non-English language\\nOnly English\"\n",
    "    ],\n",
    "    \"Variable Name for Data Release\": [\n",
    "        \"ACD011A-C\",\n",
    "        \"ACD040\",\n",
    "        \"ACD110\"\n",
    "    ]\n",
    "} \n",
    "    },\n",
    "    \"Data Processing and Editing\":  ## Some codebook may have tables/description, edit the structure here appropeorately.\n",
    "        {\n",
    "        \"description\":\"Edits were made to ensure the completeness, consistency and analytic usefulness of the data.\"  \n",
    "       \n",
    "    },\n",
    "    \"Codebook and Frequencies\":\n",
    "        { \"ACD011A\": {\n",
    "        \"title\": \"Speak English at home - NHW or NHB\",\n",
    "        \"Variable Name\": \"ACD011A\",\n",
    "        \"SAS Label\": \"Speak English at home - NHW or NHB\",\n",
    "        \"English Text\": \"What language(s) {do you/does SP} usually speak at home?\",\n",
    "        \"English Instructions\": 'CODE ALL THAT APPLY. THIS VARIABLE ONLY APPLIES TO PARTICIPANTS SELF-IDENTIFIED AS \"NON-HISPANIC WHITE\", \"NON-HISPANIC BLACK\", OR \"OTHER RACE - INCLUDING MULTI-RACIAL\" (i.e., RIDRETH3=3, 4, OR 7).',\n",
    "        \"Target\": \"Both males and females 3 YEARS - 150 YEARS\",\n",
    "        \"table\": ## For the table, if there is a title, name the key as title, otherwise keep it as table or other name if multiple tables needed.\n",
    "            {\n",
    "            \"Code or Value\": [1, 77, 99, \".\"],\n",
    "            \"Value Description\": [\"English\", \"Refused\", \"Don't know\", \"Missing\"],\n",
    "            \"Count\": [5230, 0, 0, 3191],\n",
    "            \"Cumulative\": [5230, 5230, 5230, 8421],\n",
    "            \"Skip to Item\": [\"\", \"\", \"\", \"\"]\n",
    "        },\n",
    "        \n",
    "    },\n",
    "        }\n",
    "}\n",
    "\n",
    "# save_path = \"CODEBOOK_ACQ_J.json\"\n",
    "# save_json(res, save_path)\n"
   ]
  },
  {
   "cell_type": "code",
   "execution_count": 6,
   "metadata": {},
   "outputs": [],
   "source": [
    "file = read_xpt(\"data/raw/ACQ_J.xpt\")"
   ]
  },
  {
   "cell_type": "code",
   "execution_count": 9,
   "metadata": {},
   "outputs": [],
   "source": [
    "file.to_csv(\"data/processed/ACQ_J.csv\")"
   ]
  },
  {
   "cell_type": "code",
   "execution_count": null,
   "metadata": {},
   "outputs": [],
   "source": []
  }
 ],
 "metadata": {
  "kernelspec": {
   "display_name": "work",
   "language": "python",
   "name": "python3"
  },
  "language_info": {
   "codemirror_mode": {
    "name": "ipython",
    "version": 3
   },
   "file_extension": ".py",
   "mimetype": "text/x-python",
   "name": "python",
   "nbconvert_exporter": "python",
   "pygments_lexer": "ipython3",
   "version": "3.11.0"
  }
 },
 "nbformat": 4,
 "nbformat_minor": 2
}
